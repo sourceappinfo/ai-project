{
 "cells": [
  {
   "cell_type": "code",
   "execution_count": null,
   "id": "4263f9e4-6605-4e81-9f8e-2f252fe0dbbf",
   "metadata": {},
   "outputs": [],
   "source": [
    "# Import necessary libraries\n",
    "import pandas as pd\n",
    "import numpy as np\n",
    "import matplotlib.pyplot as plt\n",
    "import seaborn as sns\n",
    "import joblib\n",
    "import os\n",
    "import logging\n",
    "from sklearn.metrics import classification_report, confusion_matrix, roc_curve, auc\n",
    "import yaml\n",
    "\n",
    "# Configure logging\n",
    "logging.basicConfig(level=logging.INFO, format='%(asctime)s - %(levelname)s - %(message)s')\n"
   ]
  },
  {
   "cell_type": "code",
   "execution_count": null,
   "id": "9d27a612-3095-4fac-87d5-6ac3e40421b6",
   "metadata": {},
   "outputs": [],
   "source": [
    "# Load configuration from YAML file\n",
    "config_path = '../config/config.yaml'\n",
    "with open(config_path, 'r') as file:\n",
    "    config = yaml.safe_load(file)\n",
    "\n",
    "# Paths from config\n",
    "processed_data_path = config['data']['processed_data_path']\n",
    "model_path = config['model']['output_path']\n",
    "\n",
    "# Load the trained model\n",
    "logging.info(f\"Loading model from {model_path}\")\n",
    "model = joblib.load(model_path)\n",
    "\n",
    "# Load the processed data\n",
    "logging.info(f\"Loading processed data from {processed_data_path}\")\n",
    "data = pd.read_csv(processed_data_path)\n",
    "data.head()\n"
   ]
  },
  {
   "cell_type": "code",
   "execution_count": null,
   "id": "c9589e2a-7d92-43ae-9204-b3ec0fde747a",
   "metadata": {},
   "outputs": [],
   "source": [
    "# Define feature and label columns\n",
    "feature_col = 'text'\n",
    "label_col = 'label'  # Ensure this matches the column in your processed data\n",
    "\n",
    "# Extract features and labels\n",
    "X = data[feature_col]\n",
    "y = data[label_col]\n",
    "\n",
    "# Split the data into training and testing sets\n",
    "_, X_test, _, y_test = train_test_split(X, y, test_size=0.2, random_state=42)\n",
    "\n",
    "# Display the shape of the test datasets\n",
    "print(f\"Test data shape: {X_test.shape}\")\n"
   ]
  },
  {
   "cell_type": "code",
   "execution_count": null,
   "id": "cabb3675-7fac-46a6-aa17-d4c313a32459",
   "metadata": {},
   "outputs": [],
   "source": [
    "# Predict on the test set\n",
    "logging.info(\"Generating predictions on the test set...\")\n",
    "y_pred = model.predict(X_test)\n",
    "y_prob = model.predict_proba(X_test)[:, 1]\n",
    "\n",
    "# Calculate evaluation metrics\n",
    "accuracy = accuracy_score(y_test, y_pred)\n",
    "conf_matrix = confusion_matrix(y_test, y_pred)\n",
    "class_report = classification_report(y_test, y_pred)\n",
    "\n",
    "print(f\"Accuracy: {accuracy:.4f}\")\n",
    "print(\"Confusion Matrix:\")\n",
    "print(conf_matrix)\n",
    "print(\"Classification Report:\")\n",
    "print(class_report)\n"
   ]
  },
  {
   "cell_type": "code",
   "execution_count": null,
   "id": "e41db021-5ba3-4384-b04d-526c07917605",
   "metadata": {},
   "outputs": [],
   "source": [
    "# Function to plot confusion matrix\n",
    "def plot_confusion_matrix(cm, classes, title='Confusion Matrix', cmap=plt.cm.Blues):\n",
    "    plt.figure(figsize=(8, 6))\n",
    "    sns.heatmap(cm, annot=True, fmt='d', cmap=cmap, xticklabels=classes, yticklabels=classes)\n",
    "    plt.title(title)\n",
    "    plt.ylabel('True label')\n",
    "    plt.xlabel('Predicted label')\n",
    "    plt.show()\n",
    "\n",
    "# Plot confusion matrix\n",
    "plot_confusion_matrix(conf_matrix, classes=['Class 0', 'Class 1'])\n"
   ]
  },
  {
   "cell_type": "code",
   "execution_count": null,
   "id": "09f73fac-55ff-4e8b-a23b-d0de09b65baf",
   "metadata": {},
   "outputs": [],
   "source": [
    "# Compute ROC curve and ROC area\n",
    "fpr, tpr, _ = roc_curve(y_test, y_prob)\n",
    "roc_auc = auc(fpr, tpr)\n",
    "\n",
    "# Plot ROC curve\n",
    "plt.figure(figsize=(8, 6))\n",
    "plt.plot(fpr, tpr, color='darkorange', lw=2, label=f'ROC curve (area = {roc_auc:.2f})')\n",
    "plt.plot([0, 1], [0, 1], color='navy', lw=2, linestyle='--')\n",
    "plt.xlim([0.0, 1.0])\n",
    "plt.ylim([0.0, 1.05])\n",
    "plt.xlabel('False Positive Rate')\n",
    "plt.ylabel('True Positive Rate')\n",
    "plt.title('Receiver Operating Characteristic (ROC) Curve')\n",
    "plt.legend(loc=\"lower right\")\n",
    "plt.show()\n"
   ]
  },
  {
   "cell_type": "code",
   "execution_count": null,
   "id": "da66956a-92a0-43d1-895e-4f4c49c2b9bb",
   "metadata": {},
   "outputs": [],
   "source": [
    "# Analyze misclassified examples\n",
    "misclassified = X_test[y_test != y_pred]\n",
    "misclassified_results = pd.DataFrame({'text': misclassified, 'predicted': y_pred[y_test != y_pred], 'actual': y_test[y_test != y_pred]})\n",
    "misclassified_results.head(10)\n"
   ]
  },
  {
   "cell_type": "code",
   "execution_count": null,
   "id": "fa9f8049-9219-4219-bf05-b7eb8a728386",
   "metadata": {},
   "outputs": [],
   "source": [
    "# Conclusion and Recommendations\n",
    "\n",
    "This notebook provided an in-depth analysis of the machine learning model's performance on SEC filings data. The results highlight both the strengths and weaknesses of the current model.\n",
    "\n",
    "### Key Findings\n",
    "- The model achieved an accuracy of **X%** on the test set.\n",
    "- The confusion matrix indicates that **Y%** of class 0 samples and **Z%** of class 1 samples were correctly classified.\n",
    "- The ROC curve shows an AUC of **W**.\n",
    "\n",
    "### Recommendations for Improvement\n",
    "1. **Feature Engineering**: Explore additional features beyond simple text-based features to enhance model performance.\n",
    "2. **Hyperparameter Tuning**: Perform hyperparameter optimization to find the best settings for the classifier.\n",
    "3. **Model Exploration**: Try different classifiers (e.g., Random Forest, Gradient Boosting) or ensemble methods to improve performance.\n",
    "4. **Data Augmentation**: Consider augmenting the dataset with more examples to improve model generalization.\n",
    "\n",
    "These steps can lead to a more robust model that better captures the complexities of SEC filings and improves classification accuracy.\n"
   ]
  }
 ],
 "metadata": {
  "kernelspec": {
   "display_name": "Python 3 (ipykernel)",
   "language": "python",
   "name": "python3"
  },
  "language_info": {
   "codemirror_mode": {
    "name": "ipython",
    "version": 3
   },
   "file_extension": ".py",
   "mimetype": "text/x-python",
   "name": "python",
   "nbconvert_exporter": "python",
   "pygments_lexer": "ipython3",
   "version": "3.12.4"
  }
 },
 "nbformat": 4,
 "nbformat_minor": 5
}
