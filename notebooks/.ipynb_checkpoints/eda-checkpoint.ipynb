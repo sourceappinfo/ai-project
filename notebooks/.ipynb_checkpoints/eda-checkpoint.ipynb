{
 "cells": [
  {
   "cell_type": "code",
   "execution_count": null,
   "metadata": {},
   "outputs": [],
   "source": [
    "# Cell 1: Import Necessary Libraries\n",
    "import pandas as pd\n",
    "import numpy as np\n",
    "import matplotlib.pyplot as plt\n",
    "import seaborn as sns\n",
    "import os\n",
    "\n",
    "# Set seaborn style\n",
    "sns.set(style='whitegrid')\n"
   ]
  },
  {
   "cell_type": "code",
   "execution_count": null,
   "metadata": {},
   "outputs": [],
   "source": [
    "# Cell 2: Load Data\n",
    "processed_data_path = '../data/processed/sec_filings_processed.csv'\n",
    "\n",
    "if os.path.exists(processed_data_path):\n",
    "    df = pd.read_csv(processed_data_path)\n",
    "    print(f\"Data loaded successfully from {processed_data_path}\")\n",
    "else:\n",
    "    print(f\"Data file not found at {processed_data_path}\")\n"
   ]
  },
  {
   "cell_type": "code",
   "execution_count": null,
   "metadata": {},
   "outputs": [],
   "source": [
    "# Cell 3: Preview Data\n",
    "df.head()\n"
   ]
  },
  {
   "cell_type": "code",
   "execution_count": null,
   "metadata": {},
   "outputs": [],
   "source": [
    "# Cell 4: Summary Statistics\n",
    "df.describe(include='all')\n"
   ]
  },
  {
   "cell_type": "code",
   "execution_count": null,
   "metadata": {},
   "outputs": [],
   "source": [
    "# Cell 5: Check for Missing Values\n",
    "missing_values = df.isnull().sum()\n",
    "print(\"Missing values in each column:\")\n",
    "print(missing_values)\n"
   ]
  },
  {
   "cell_type": "code",
   "execution_count": null,
   "metadata": {},
   "outputs": [],
   "source": [
    "# Cell 6: Data Types and Info\n",
    "df.info()\n"
   ]
  },
  {
   "cell_type": "code",
   "execution_count": null,
   "metadata": {},
   "outputs": [],
   "source": [
    "# Cell 7: Distribution of Numerical Features\n",
    "numerical_columns = df.select_dtypes(include=['float64', 'int64']).columns\n",
    "\n",
    "plt.figure(figsize=(14, 8))\n",
    "df[numerical_columns].hist(bins=20, figsize=(14, 8), layout=(5, 3))\n",
    "plt.suptitle('Distribution of Numerical Features', fontsize=16)\n",
    "plt.show()\n"
   ]
  },
  {
   "cell_type": "code",
   "execution_count": null,
   "metadata": {},
   "outputs": [],
   "source": [
    "# Cell 8: Distribution of Categorical Features\n",
    "categorical_columns = df.select_dtypes(include=['object']).columns\n",
    "\n",
    "plt.figure(figsize=(14, 8))\n",
    "for i, column in enumerate(categorical_columns, 1):\n",
    "    plt.subplot(3, 3, i)\n",
    "    df[column].value_counts().plot(kind='bar')\n",
    "    plt.title(f'Distribution of {column}')\n",
    "    plt.xticks(rotation=45)\n",
    "plt.tight_layout()\n",
    "plt.show()\n"
   ]
  },
  {
   "cell_type": "code",
   "execution_count": null,
   "metadata": {},
   "outputs": [],
   "source": [
    "# Cell 9: Correlation Analysis\n",
    "plt.figure(figsize=(12, 8))\n",
    "correlation_matrix = df.corr()\n",
    "sns.heatmap(correlation_matrix, annot=True, cmap='coolwarm', linewidths=0.5)\n",
    "plt.title('Correlation Matrix of Numerical Features')\n",
    "plt.show()\n"
   ]
  },
  {
   "cell_type": "code",
   "execution_count": null,
   "metadata": {},
   "outputs": [],
   "source": [
    "# Cell 10: Feature Analysis Based on Target Variable\n",
    "# Example: Analyzing a specific feature based on target variable\n",
    "if 'target' in df.columns:\n",
    "    sns.boxplot(x='target', y='some_numerical_feature', data=df)\n",
    "    plt.title('Distribution of Some Numerical Feature by Target Variable')\n",
    "    plt.show()\n",
    "else:\n",
    "    print(\"Target variable not found in the dataset.\")\n"
   ]
  },
  {
   "cell_type": "code",
   "execution_count": null,
   "metadata": {},
   "outputs": [],
   "source": [
    "# Cell 11: Term Frequency Visualization\n",
    "term_columns = df.columns[1:]  # Assuming the first column is CIK and others are terms\n",
    "term_counts = df[term_columns].sum().sort_values(ascending=False)\n",
    "\n",
    "plt.figure(figsize=(14, 6))\n",
    "sns.barplot(x=term_counts.index, y=term_counts.values)\n",
    "plt.title('Frequency of Key Terms in SEC Filings')\n",
    "plt.xticks(rotation=90)\n",
    "plt.show()\n"
   ]
  },
  {
   "cell_type": "code",
   "execution_count": null,
   "metadata": {},
   "outputs": [],
   "source": [
    "# Cell 12: Advanced Text Analysis (Optional)\n",
    "# Example: Word Cloud of Terms\n",
    "from wordcloud import WordCloud\n",
    "\n",
    "all_terms = ' '.join(df[term_columns].columns)\n",
    "wordcloud = WordCloud(width=800, height=400, background_color='white').generate(all_terms)\n",
    "\n",
    "plt.figure(figsize=(10, 6))\n",
    "plt.imshow(wordcloud, interpolation='bilinear')\n",
    "plt.axis('off')\n",
    "plt.title('Word Cloud of Key Terms in SEC Filings')\n",
    "plt.show()\n"
   ]
  },
  {
   "cell_type": "code",
   "execution_count": null,
   "metadata": {},
   "outputs": [],
   "source": [
    "# Cell 13: Outliers Detection\n",
    "plt.figure(figsize=(12, 6))\n",
    "sns.boxplot(data=df[numerical_columns])\n",
    "plt.title('Box Plot for Outliers Detection')\n",
    "plt.xticks(rotation=45)\n",
    "plt.show()\n"
   ]
  },
  {
   "cell_type": "code",
   "execution_count": null,
   "metadata": {},
   "outputs": [],
   "source": [
    "# Cell 14: Conclusion and Next Steps\n",
    "\"\"\"\n",
    "**Key Findings from EDA**:\n",
    "- Summary statistics reveal that [describe insights].\n",
    "- Visualizations show that [describe findings].\n",
    "- Correlation analysis indicates that [describe correlations].\n",
    "\n",
    "**Next Steps**:\n",
    "- Feature engineering based on identified patterns and correlations.\n",
    "- Further refinement of text processing and pattern detection.\n",
    "- Model training and evaluation using processed data.\n",
    "\"\"\"\n"
   ]
  }
 ],
 "metadata": {
  "kernelspec": {
   "display_name": "Python 3 (ipykernel)",
   "language": "python",
   "name": "python3"
  },
  "language_info": {
   "codemirror_mode": {
    "name": "ipython",
    "version": 3
   },
   "file_extension": ".py",
   "mimetype": "text/x-python",
   "name": "python",
   "nbconvert_exporter": "python",
   "pygments_lexer": "ipython3",
   "version": "3.12.4"
  }
 },
 "nbformat": 4,
 "nbformat_minor": 4
}
