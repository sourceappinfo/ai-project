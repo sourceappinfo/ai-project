{
 "cells": [
  {
   "cell_type": "code",
   "execution_count": null,
   "id": "04676993-7857-4d77-aa6d-3a3cfd69afea",
   "metadata": {},
   "outputs": [],
   "source": [
    "# Import necessary libraries\n",
    "import pandas as pd\n",
    "import numpy as np\n",
    "import os\n",
    "import logging\n",
    "from sklearn.model_selection import train_test_split\n",
    "from sklearn.feature_extraction.text import TfidfVectorizer\n",
    "from sklearn.naive_bayes import MultinomialNB\n",
    "from sklearn.pipeline import Pipeline\n",
    "from sklearn.metrics import classification_report, confusion_matrix, accuracy_score\n",
    "import joblib\n",
    "import yaml\n",
    "\n",
    "# Configure logging\n",
    "logging.basicConfig(level=logging.INFO, format='%(asctime)s - %(levelname)s - %(message)s')\n"
   ]
  },
  {
   "cell_type": "code",
   "execution_count": null,
   "id": "66bf36dd-96b7-4642-b041-ef10dd0770d0",
   "metadata": {},
   "outputs": [],
   "source": [
    "# Load configuration from YAML file\n",
    "config_path = '../config/config.yaml'\n",
    "with open(config_path, 'r') as file:\n",
    "    config = yaml.safe_load(file)\n",
    "\n",
    "# Paths from config\n",
    "processed_data_path = config['data']['processed_data_path']\n",
    "model_output_path = config['model']['output_path']\n",
    "\n",
    "# Load the preprocessed data\n",
    "logging.info(f\"Loading processed data from {processed_data_path}\")\n",
    "data = pd.read_csv(processed_data_path)\n",
    "\n",
    "# Display the first few rows of the data\n",
    "data.head()\n"
   ]
  },
  {
   "cell_type": "code",
   "execution_count": null,
   "id": "859a16a0-03fa-4d1e-a749-0a13aa97d206",
   "metadata": {},
   "outputs": [],
   "source": [
    "# Define feature and label columns\n",
    "feature_col = 'text'\n",
    "label_col = 'label'  # Ensure this matches the column in your processed data\n",
    "\n",
    "# Check if columns exist in the data\n",
    "if feature_col not in data.columns or label_col not in data.columns:\n",
    "    raise ValueError(f\"Columns '{feature_col}' or '{label_col}' not found in data.\")\n",
    "\n",
    "# Extract features and labels\n",
    "X = data[feature_col]\n",
    "y = data[label_col]\n",
    "\n",
    "# Split the data into training and testing sets\n",
    "X_train, X_test, y_train, y_test = train_test_split(X, y, test_size=0.2, random_state=42)\n",
    "\n",
    "# Display the shape of the datasets\n",
    "print(f\"Training data shape: {X_train.shape}\")\n",
    "print(f\"Test data shape: {X_test.shape}\")\n"
   ]
  },
  {
   "cell_type": "code",
   "execution_count": null,
   "id": "e97311b8-b2eb-460f-846b-989b925bff4a",
   "metadata": {},
   "outputs": [],
   "source": [
    "# Create a text classification pipeline\n",
    "pipeline = Pipeline([\n",
    "    ('tfidf', TfidfVectorizer(stop_words='english', max_df=0.7)),\n",
    "    ('clf', MultinomialNB())\n",
    "])\n",
    "\n",
    "# Display the pipeline structure\n",
    "pipeline\n"
   ]
  },
  {
   "cell_type": "code",
   "execution_count": null,
   "id": "cbdf3491-5f7b-464b-9ba0-d5d268d8089b",
   "metadata": {},
   "outputs": [],
   "source": [
    "# Train the model\n",
    "logging.info(\"Training the model...\")\n",
    "pipeline.fit(X_train, y_train)\n"
   ]
  },
  {
   "cell_type": "code",
   "execution_count": null,
   "id": "446c8bf1-340b-4167-b630-f0c3d1e3af0d",
   "metadata": {},
   "outputs": [],
   "source": [
    "# Evaluate the model on the test set\n",
    "logging.info(\"Evaluating the model...\")\n",
    "y_pred = pipeline.predict(X_test)\n",
    "\n",
    "# Calculate evaluation metrics\n",
    "accuracy = accuracy_score(y_test, y_pred)\n",
    "conf_matrix = confusion_matrix(y_test, y_pred)\n",
    "class_report = classification_report(y_test, y_pred)\n",
    "\n",
    "print(f\"Accuracy: {accuracy:.4f}\")\n",
    "print(\"Confusion Matrix:\")\n",
    "print(conf_matrix)\n",
    "print(\"Classification Report:\")\n",
    "print(class_report)\n"
   ]
  },
  {
   "cell_type": "code",
   "execution_count": null,
   "id": "8fd7da91-0d65-4c65-8e52-18fc9a99adae",
   "metadata": {},
   "outputs": [],
   "source": [
    "# Save the trained model to a file\n",
    "joblib.dump(pipeline, model_output_path)\n",
    "logging.info(f\"Model saved to {model_output_path}\")\n"
   ]
  },
  {
   "cell_type": "code",
   "execution_count": null,
   "id": "9190ca1d-0238-4456-8c24-96c4a6f3f57b",
   "metadata": {},
   "outputs": [],
   "source": [
    "# Conclusion and Next Steps\n",
    "\n",
    "In this notebook, we have successfully trained a text classification model using the processed SEC filings data. We evaluated the model's performance and saved the trained model for future use.\n",
    "\n",
    "**Next Steps:**\n",
    "1. Use the trained model to make predictions on new data.\n",
    "2. Explore other machine learning models and hyperparameter tuning to improve performance.\n",
    "3. Integrate the model into a production environment or application.\n"
   ]
  }
 ],
 "metadata": {
  "kernelspec": {
   "display_name": "Python 3 (ipykernel)",
   "language": "python",
   "name": "python3"
  },
  "language_info": {
   "codemirror_mode": {
    "name": "ipython",
    "version": 3
   },
   "file_extension": ".py",
   "mimetype": "text/x-python",
   "name": "python",
   "nbconvert_exporter": "python",
   "pygments_lexer": "ipython3",
   "version": "3.12.4"
  }
 },
 "nbformat": 4,
 "nbformat_minor": 5
}
